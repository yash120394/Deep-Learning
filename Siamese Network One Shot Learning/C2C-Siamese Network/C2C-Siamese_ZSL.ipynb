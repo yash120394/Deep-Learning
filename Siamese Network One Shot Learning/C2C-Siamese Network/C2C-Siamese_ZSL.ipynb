{
 "cells": [
  {
   "cell_type": "code",
   "execution_count": 1,
   "metadata": {},
   "outputs": [
    {
     "name": "stderr",
     "output_type": "stream",
     "text": [
      "Using TensorFlow backend.\n"
     ]
    }
   ],
   "source": [
    "# Reference for the code: Xiaoming Ye and Siamese with MNIST from the sourse below:\n",
    "# https://keras.io/examples/mnist_siamese/\n",
    "\n",
    "from __future__ import absolute_import\n",
    "from __future__ import print_function\n",
    "import numpy as np\n",
    "#%tensorflow_version 1.x\n",
    "import random\n",
    "from keras.datasets import mnist\n",
    "from keras.models import Model\n",
    "from keras.layers import Input, Flatten, Dense, Dropout, Lambda, Subtract\n",
    "from keras.optimizers import RMSprop\n",
    "from keras import backend as K\n",
    "\n",
    "from numpy.random import permutation\n",
    "import itertools\n",
    "from keras.models import load_model\n",
    "\n",
    "import matplotlib.pyplot as plt\n",
    "from itertools import  tee\n",
    "from sklearn.cluster import KMeans\n"
   ]
  },
  {
   "cell_type": "code",
   "execution_count": null,
   "metadata": {},
   "outputs": [],
   "source": []
  },
  {
   "cell_type": "code",
   "execution_count": 2,
   "metadata": {},
   "outputs": [],
   "source": [
    "def euclidean_distance(vects):\n",
    "    '''\n",
    "     function for calculating euclidean distance between to feature vectors in a siamese network\n",
    "    '''\n",
    "    x, y = vects\n",
    "    sum_square = K.sum(K.square(x - y), axis=1, keepdims=True)\n",
    "    return K.sqrt(K.maximum(sum_square, K.epsilon()))\n",
    "\n",
    "\n",
    "def eucl_dist_output_shape(shapes):\n",
    "    \n",
    "    shape1, shape2 = shapes\n",
    "    return (shape1[0], 1)\n",
    "\n",
    "def randExcept(bottom, top,c1):\n",
    "    '''\n",
    "    helper function for creating a negative pair \n",
    "    '''\n",
    "    while True:\n",
    "      y = random.randint(bottom, top)\n",
    "      if(y != c1):\n",
    "        return y\n",
    "def generate_a_pair(x, digit_indices, c1, c2):\n",
    "  \n",
    "  '''Positive and negative pair creation.\n",
    "  Alternates between positive and negative pairs.\n",
    "  '''\n",
    "  pairs = []\n",
    "  digit1_len = len(digit_indices[c1])\n",
    "  digit2_len = len(digit_indices[c2])\n",
    "  #choose x1\n",
    "  index1 = digit_indices[c1][random.randint(0, digit1_len-1)]\n",
    "  index2 = digit_indices[c2][random.randint(0, digit2_len-1)]\n",
    "  pairs += [[x[index1], x[index2]]]\n",
    "  return pairs\n",
    "def generate_pairs(x, digit_indices, c1,c2, num):\n",
    "  \n",
    "  pairs = []\n",
    "  for i in range(num):\n",
    "    pairs += generate_a_pair(x, digit_indices, c1, c2)\n",
    "  return pairs\n"
   ]
  },
  {
   "cell_type": "code",
   "execution_count": 3,
   "metadata": {
    "colab": {},
    "colab_type": "code",
    "id": "e2TclEYCxOdl"
   },
   "outputs": [],
   "source": [
    "def listOneOrZero_siamese(prevLabels, c1,c2, numNewLabel):\n",
    "  \n",
    "  if(c1 == c2):\n",
    "    prevLabels += [1] * numNewLabel\n",
    "  else:\n",
    "    prevLabels += [0] * numNewLabel\n",
    "  return prevLabels\n",
    "def appendLabel_siamese(prevLabels, c1,c2):\n",
    "  \n",
    "  if(c1 == c2):\n",
    "    prevLabels.append(1)\n",
    "  else:\n",
    "    prevLabels.append(0)\n",
    "\n",
    "def preparePairData(x, digit_indices, c1, c2):\n",
    "  '''\n",
    "  function for creating positive and 3 type of negative pairs\n",
    "  '''\n",
    "  pairs = []\n",
    "  labels = []\n",
    "  pairs += generate_pairs(x, digit_indices, c1, c2, num_c1c2_samples)\n",
    "  labels = [1] * num_c1c2_samples\n",
    "  for i in range(num_c1_samples):\n",
    "    diffC2 = randExcept(0, n_classes-1, c2)\n",
    "    pairs += generate_a_pair(x, digit_indices, c1, diffC2)\n",
    "  labels += [0] * num_c1_samples\n",
    "  for i in range(num_c2_samples):\n",
    "    diffC1 = randExcept(0, n_classes-1, c1)\n",
    "    pairs += generate_a_pair(x, digit_indices, diffC1, c2);\n",
    "  labels += [0] * num_c2_samples\n",
    "  for i in range(num_neg_samples):\n",
    "    diffC1 = randExcept(0, n_classes-1, c1)\n",
    "    diffC2 = randExcept(0, n_classes-1, c2)\n",
    "    pairs += generate_a_pair(x, digit_indices, diffC1, diffC2);\n",
    "  labels += [0] * num_neg_samples\n",
    "  return pairs, labels\n",
    "\n",
    "  ##version 2\n",
    "def create_pairs(x,digit_indices,c1,c2):\n",
    "  \n",
    "  all_pairs = []\n",
    "  all_labels = []\n",
    "  pairs, labels = preparePairData(x, digit_indices, c1, c2)\n",
    "  all_pairs += pairs\n",
    "  all_labels += labels\n",
    "  all_pairs = np.array(all_pairs)\n",
    "  all_labels = np.array(all_labels)\n",
    "  return all_pairs, all_labels\n",
    "  \n",
    "def create_pairs_of_only_2classes(x,digit_indices,c1,c2):\n",
    "  \n",
    "  pairs = []\n",
    "  labels = []\n",
    "  pairs += generate_pairs(x, digit_indices, c1, c2, num_c1c2_samples)\n",
    "  labels = [1] * num_c1c2_samples\n",
    "  \n",
    "  pairs += generate_pairs(x, digit_indices, c1, c1, num_c1_samples)\n",
    "  labels += [0] * num_c1_samples\n",
    "  \n",
    "  pairs += generate_pairs(x, digit_indices, c2, c2, num_c2_samples)\n",
    "  labels += [0] * num_c2_samples\n",
    "  \n",
    "  pairs = np.array(pairs)\n",
    "  labels = np.array(labels)\n",
    "  return pairs, labels"
   ]
  },
  {
   "cell_type": "code",
   "execution_count": 4,
   "metadata": {
    "colab": {},
    "colab_type": "code",
    "id": "qStZpywjxkOk"
   },
   "outputs": [],
   "source": [
    "def create_base_network(input_shape):\n",
    "    \n",
    "    '''Base network to be shared (eq. to feature extraction).\n",
    "    '''\n",
    "    input = Input(shape=input_shape)\n",
    "    x = Flatten()(input)\n",
    "    x = Dense(128, activation='relu')(x)\n",
    "    x = Dropout(0.1)(x)\n",
    "    x = Dense(128, activation='relu')(x)\n",
    "    x = Dropout(0.1)(x)\n",
    "    x = Dense(128, activation='relu')(x)\n",
    "    return Model(input, x)\n",
    "    \n",
    "\n",
    "### my version, loss and accuracy for C2C-SN\n",
    "def contrastive_loss(y_true, y_pred):\n",
    "  \n",
    "  '''Contrastive loss from Hadsell-et-al.'06\n",
    "  http://yann.lecun.com/exdb/publis/pdf/hadsell-chopra-lecun-06.pdf\n",
    "  '''\n",
    "  margin = 1\n",
    "  square_pred = K.square(y_pred)\n",
    "  margin_square = K.square(K.maximum(margin - y_pred, 0))\n",
    "\n",
    "  return K.mean(y_true * margin_square + (1-y_true) * square_pred)"
   ]
  },
  {
   "cell_type": "code",
   "execution_count": 5,
   "metadata": {
    "colab": {},
    "colab_type": "code",
    "id": "S29dhEAOxtcR"
   },
   "outputs": [],
   "source": [
    "def compute_accuracy(y_true, y_pred):\n",
    "  '''Compute classification accuracy with a fixed threshold on distances.\n",
    "  '''\n",
    "  pred = y_pred.ravel() > 0.5\n",
    "  return np.mean(pred == y_true)\n",
    "\n",
    "\n",
    "def recall_m(y_true, y_pred):\n",
    "  y_pred = K.cast(y_pred > 0.5, y_true.dtype)\n",
    "  true_positives = (K.round(K.clip(y_true * y_pred, 0, 1)))\n",
    "  possible_positives = (K.round(K.clip(y_true, 0, 1)))\n",
    "  recall = K.mean(K.equal(true_positives, possible_positives))\n",
    "  return recall\n",
    "\n",
    "def precision_m(y_true, y_pred):\n",
    "  y_pred = K.cast(y_pred > 0.5, y_true.dtype)\n",
    "  true_positives = (K.round(K.clip(y_true * y_pred, 0, 1)))\n",
    "  predicted_positives = (K.round(K.clip(y_pred, 0, 1)))\n",
    "  precision = K.mean(K.equal(true_positives, predicted_positives))\n",
    "  return precision\n",
    "\n",
    "def f1_m(y_true, y_pred):\n",
    "  precision = precision_m(y_true, y_pred)\n",
    "  recall = recall_m(y_true, y_pred)\n",
    "  return 2*((precision*recall)/(precision+recall+K.epsilon()))\n",
    "\n",
    "\n",
    "def accuracy(y_true, y_pred):\n",
    "  '''Compute classification accuracy with a fixed threshold on distances.\n",
    "  '''\n",
    "  return K.mean(K.equal(y_true, K.cast(y_pred > 0.5, y_true.dtype)))\n",
    " "
   ]
  },
  {
   "cell_type": "code",
   "execution_count": 7,
   "metadata": {
    "colab": {
     "base_uri": "https://localhost:8080/",
     "height": 50
    },
    "colab_type": "code",
    "executionInfo": {
     "elapsed": 6732,
     "status": "ok",
     "timestamp": 1588825906153,
     "user": {
      "displayName": "mahesh latnekar",
      "photoUrl": "https://lh3.googleusercontent.com/a-/AOh14GjvfCneD0bwpNUn49xzefSaQZYPmw5sMq3F6-iQDg=s64",
      "userId": "02378486984262881096"
     },
     "user_tz": 240
    },
    "id": "JWJ4INBux1xW",
    "outputId": "0099a2ee-ea28-44c7-9794-c9a938009c47"
   },
   "outputs": [],
   "source": [
    "# the data, split between train and test sets\n",
    "(x_train, y_train), (x_test, y_test) = mnist.load_data()\n",
    "x_train = x_train.astype('float32')\n",
    "x_test = x_test.astype('float32')\n",
    "x_train /= 255\n",
    "x_test /= 255\n",
    "input_shape = x_train.shape[1:]\n",
    "\n",
    "n_classes = 10 #len(np.unique(y_train))\n",
    "num_classes = 10\n",
    "epochs = 10\n",
    "\n",
    "\n",
    "# number of positive samples\n",
    "num_c1c2_samples = 5000\n",
    "# number of half positive samples\n",
    "num_c1_samples = 1750 #3500\n",
    "num_c2_samples = 1750 #3500\n",
    "\n",
    "# number of negative samples\n",
    "num_neg_samples = 1500 #3000\n"
   ]
  },
  {
   "cell_type": "code",
   "execution_count": 8,
   "metadata": {
    "colab": {},
    "colab_type": "code",
    "id": "B6nK9U5Kx_yU"
   },
   "outputs": [],
   "source": [
    "\n",
    "\n",
    "def C2C_SN(c1, c2):\n",
    "  print('training model '+ str(c1)+'_'+ str(c2) )\n",
    "\n",
    "  # create training+test positive and negative pairs\n",
    "  digit_indices = [np.where(y_train == i)[0] for i in range(num_classes)]\n",
    "  tr_pairs, tr_y = create_pairs(x_train, digit_indices,c1,c2)\n",
    "  digit_indices = [np.where(y_test == i)[0] for i in range(num_classes)]\n",
    "  te_pairs, te_y = create_pairs(x_test, digit_indices,c1,c2)\n",
    "\n",
    "  # network definition\n",
    "  base_network = create_base_network(input_shape)\n",
    "\n",
    "  input_a = Input(shape=input_shape)\n",
    "  input_b = Input(shape=input_shape)#, name=\"side\")\n",
    "\n",
    "  # because we re-use the same instance `base_network`,\n",
    "  # the weights of the network\n",
    "  # will be shared across the two branches\n",
    "  processed_a = base_network(input_a)\n",
    "  processed_b = base_network(input_b)\n",
    "\n",
    "  #c2c lower model\n",
    "  subtracted = Subtract()([processed_a, processed_b])\n",
    "  x = Dense(128, activation='relu')(subtracted)\n",
    "  x = Dense(128, activation='relu')(x)\n",
    "  x = Dense(128, activation='relu')(x)\n",
    "  x = Dense(128, activation='relu')(x)\n",
    "  # out = Dense(1, activation=\"sigmoid\")(subtracted)\n",
    "  out = Dense(1, activation=\"sigmoid\")(x)\n",
    "  model = Model([input_a,input_b], out)\n",
    "\n",
    "  model.summary()\n",
    "  # train\n",
    "  rms = RMSprop()\n",
    "  model.compile(loss=contrastive_loss, optimizer=rms, metrics=[accuracy, recall_m, precision_m, f1_m])\n",
    "  model.fit([tr_pairs[:, 0], tr_pairs[:, 1]], tr_y,\n",
    "            batch_size=128,\n",
    "            epochs=epochs,\n",
    "            validation_data=([te_pairs[:, 0], te_pairs[:, 1]], te_y))\n",
    "  model.save(str(c1)+'_'+ str(c2)+'.h5')\n",
    "  \n",
    "\n",
    "  \n",
    "  # compute final accuracy on training and test sets\n",
    "  y_pred = model.predict([tr_pairs[:, 0], tr_pairs[:, 1]])\n",
    "  tr_acc = compute_accuracy(tr_y, y_pred)\n",
    "  y_pred = model.predict([te_pairs[:, 0], te_pairs[:, 1]])\n",
    "  te_acc = compute_accuracy(te_y, y_pred)\n",
    "\n",
    "  print('* Accuracy on training set for model' + str(c1) + '_' + str(c2)+': %0.2f%%' % (100 * tr_acc))\n",
    "  print('* Accuracy on test set for model' + str(c1) + '_' + str(c2)+': %0.2f%%' % (100 * te_acc))\n",
    "  return model, 100*te_acc\n"
   ]
  },
  {
   "cell_type": "code",
   "execution_count": 9,
   "metadata": {
    "colab": {
     "base_uri": "https://localhost:8080/",
     "height": 1000
    },
    "colab_type": "code",
    "executionInfo": {
     "elapsed": 3736477,
     "status": "ok",
     "timestamp": 1588449203688,
     "user": {
      "displayName": "mahesh latnekar",
      "photoUrl": "https://lh3.googleusercontent.com/a-/AOh14GjvfCneD0bwpNUn49xzefSaQZYPmw5sMq3F6-iQDg=s64",
      "userId": "02378486984262881096"
     },
     "user_tz": 240
    },
    "id": "Pnie364PjwIr",
    "outputId": "c7359659-a387-4418-e500-27a2a6429aca"
   },
   "outputs": [
    {
     "name": "stdout",
     "output_type": "stream",
     "text": [
      "training model 0_1\n",
      "Model: \"model_2\"\n",
      "__________________________________________________________________________________________________\n",
      "Layer (type)                    Output Shape         Param #     Connected to                     \n",
      "==================================================================================================\n",
      "input_2 (InputLayer)            (None, 28, 28)       0                                            \n",
      "__________________________________________________________________________________________________\n",
      "input_3 (InputLayer)            (None, 28, 28)       0                                            \n",
      "__________________________________________________________________________________________________\n",
      "model_1 (Model)                 (None, 128)          133504      input_2[0][0]                    \n",
      "                                                                 input_3[0][0]                    \n",
      "__________________________________________________________________________________________________\n",
      "subtract_1 (Subtract)           (None, 128)          0           model_1[1][0]                    \n",
      "                                                                 model_1[2][0]                    \n",
      "__________________________________________________________________________________________________\n",
      "dense_4 (Dense)                 (None, 128)          16512       subtract_1[0][0]                 \n",
      "__________________________________________________________________________________________________\n",
      "dense_5 (Dense)                 (None, 128)          16512       dense_4[0][0]                    \n",
      "__________________________________________________________________________________________________\n",
      "dense_6 (Dense)                 (None, 128)          16512       dense_5[0][0]                    \n",
      "__________________________________________________________________________________________________\n",
      "dense_7 (Dense)                 (None, 128)          16512       dense_6[0][0]                    \n",
      "__________________________________________________________________________________________________\n",
      "dense_8 (Dense)                 (None, 1)            129         dense_7[0][0]                    \n",
      "==================================================================================================\n",
      "Total params: 199,681\n",
      "Trainable params: 199,681\n",
      "Non-trainable params: 0\n",
      "__________________________________________________________________________________________________\n",
      "Train on 10000 samples, validate on 10000 samples\n",
      "Epoch 1/10\n",
      "10000/10000 [==============================] - 2s 154us/step - loss: 0.0736 - accuracy: 0.9006 - recall_m: 0.9701 - precision_m: 0.9305 - f1_m: 0.9467 - val_loss: 0.0464 - val_accuracy: 0.9438 - val_recall_m: 0.9866 - val_precision_m: 0.9573 - val_f1_m: 0.9690\n",
      "Epoch 2/10\n",
      "10000/10000 [==============================] - 1s 67us/step - loss: 0.0234 - accuracy: 0.9711 - recall_m: 0.9874 - precision_m: 0.9837 - f1_m: 0.9854 - val_loss: 0.0130 - val_accuracy: 0.9851 - val_recall_m: 0.9921 - val_precision_m: 0.9930 - val_f1_m: 0.9924\n",
      "Epoch 3/10\n",
      "10000/10000 [==============================] - 1s 67us/step - loss: 0.0159 - accuracy: 0.9790 - recall_m: 0.9888 - precision_m: 0.9902 - f1_m: 0.9894 - val_loss: 0.0225 - val_accuracy: 0.9743 - val_recall_m: 0.9974 - val_precision_m: 0.9769 - val_f1_m: 0.9866\n",
      "Epoch 4/10\n",
      "10000/10000 [==============================] - 1s 65us/step - loss: 0.0119 - accuracy: 0.9863 - recall_m: 0.9935 - precision_m: 0.9928 - f1_m: 0.9931 - val_loss: 0.0143 - val_accuracy: 0.9827 - val_recall_m: 0.9950 - val_precision_m: 0.9877 - val_f1_m: 0.9911\n",
      "Epoch 5/10\n",
      "10000/10000 [==============================] - 1s 67us/step - loss: 0.0101 - accuracy: 0.9880 - recall_m: 0.9944 - precision_m: 0.9937 - f1_m: 0.9940 - val_loss: 0.0185 - val_accuracy: 0.9782 - val_recall_m: 0.9972 - val_precision_m: 0.9810 - val_f1_m: 0.9888\n",
      "Epoch 6/10\n",
      "10000/10000 [==============================] - 1s 69us/step - loss: 0.0091 - accuracy: 0.9891 - recall_m: 0.9949 - precision_m: 0.9943 - f1_m: 0.9945 - val_loss: 0.0124 - val_accuracy: 0.9866 - val_recall_m: 0.9916 - val_precision_m: 0.9950 - val_f1_m: 0.9932\n",
      "Epoch 7/10\n",
      "10000/10000 [==============================] - 1s 75us/step - loss: 0.0063 - accuracy: 0.9932 - recall_m: 0.9973 - precision_m: 0.9958 - f1_m: 0.9966 - val_loss: 0.0102 - val_accuracy: 0.9881 - val_recall_m: 0.9936 - val_precision_m: 0.9946 - val_f1_m: 0.9940\n",
      "Epoch 8/10\n",
      "10000/10000 [==============================] - 1s 82us/step - loss: 0.0074 - accuracy: 0.9910 - recall_m: 0.9949 - precision_m: 0.9961 - f1_m: 0.9955 - val_loss: 0.0096 - val_accuracy: 0.9879 - val_recall_m: 0.9939 - val_precision_m: 0.9941 - val_f1_m: 0.9939\n",
      "Epoch 9/10\n",
      "10000/10000 [==============================] - 1s 78us/step - loss: 0.0053 - accuracy: 0.9935 - recall_m: 0.9965 - precision_m: 0.9969 - f1_m: 0.9967 - val_loss: 0.0085 - val_accuracy: 0.9909 - val_recall_m: 0.9948 - val_precision_m: 0.9961 - val_f1_m: 0.9954\n",
      "Epoch 10/10\n",
      " 9344/10000 [===========================>..] - ETA: 0s - loss: 0.0041 - accuracy: 0.9946 - recall_m: 0.9973 - precision_m: 0.9973 - f1_m: 0.9973"
     ]
    },
    {
     "ename": "KeyboardInterrupt",
     "evalue": "",
     "output_type": "error",
     "traceback": [
      "\u001b[1;31m---------------------------------------------------------------------------\u001b[0m",
      "\u001b[1;31mKeyboardInterrupt\u001b[0m                         Traceback (most recent call last)",
      "\u001b[1;32m<ipython-input-9-3d744b539efe>\u001b[0m in \u001b[0;36m<module>\u001b[1;34m\u001b[0m\n\u001b[0;32m      8\u001b[0m \u001b[1;32mfor\u001b[0m \u001b[0mm\u001b[0m \u001b[1;32min\u001b[0m \u001b[0mrange\u001b[0m\u001b[1;33m(\u001b[0m\u001b[0mlen\u001b[0m\u001b[1;33m(\u001b[0m\u001b[0mnetworkPairs\u001b[0m\u001b[1;33m)\u001b[0m\u001b[1;33m)\u001b[0m\u001b[1;33m:\u001b[0m\u001b[1;33m\u001b[0m\u001b[1;33m\u001b[0m\u001b[0m\n\u001b[0;32m      9\u001b[0m   \u001b[0mc1\u001b[0m\u001b[1;33m,\u001b[0m \u001b[0mc2\u001b[0m \u001b[1;33m=\u001b[0m \u001b[0mnetworkPairs\u001b[0m\u001b[1;33m[\u001b[0m\u001b[0mm\u001b[0m\u001b[1;33m]\u001b[0m\u001b[1;33m\u001b[0m\u001b[1;33m\u001b[0m\u001b[0m\n\u001b[1;32m---> 10\u001b[1;33m   \u001b[0mmodel\u001b[0m\u001b[1;33m,\u001b[0m \u001b[0mte_acc\u001b[0m \u001b[1;33m=\u001b[0m \u001b[0mC2C_SN\u001b[0m\u001b[1;33m(\u001b[0m\u001b[0mc1\u001b[0m\u001b[1;33m,\u001b[0m\u001b[0mc2\u001b[0m\u001b[1;33m)\u001b[0m\u001b[1;33m\u001b[0m\u001b[1;33m\u001b[0m\u001b[0m\n\u001b[0m\u001b[0;32m     11\u001b[0m   \u001b[0maccuracyList\u001b[0m\u001b[1;33m.\u001b[0m\u001b[0mappend\u001b[0m\u001b[1;33m(\u001b[0m\u001b[1;33m(\u001b[0m\u001b[0mc1\u001b[0m\u001b[1;33m,\u001b[0m \u001b[0mc2\u001b[0m\u001b[1;33m,\u001b[0m\u001b[0mte_acc\u001b[0m\u001b[1;33m)\u001b[0m\u001b[1;33m)\u001b[0m\u001b[1;33m\u001b[0m\u001b[1;33m\u001b[0m\u001b[0m\n\u001b[0;32m     12\u001b[0m   \u001b[1;32mdel\u001b[0m \u001b[0mmodel\u001b[0m\u001b[1;33m\u001b[0m\u001b[1;33m\u001b[0m\u001b[0m\n",
      "\u001b[1;32m<ipython-input-8-d2d59d67741f>\u001b[0m in \u001b[0;36mC2C_SN\u001b[1;34m(c1, c2)\u001b[0m\n\u001b[0;32m     37\u001b[0m             \u001b[0mbatch_size\u001b[0m\u001b[1;33m=\u001b[0m\u001b[1;36m128\u001b[0m\u001b[1;33m,\u001b[0m\u001b[1;33m\u001b[0m\u001b[1;33m\u001b[0m\u001b[0m\n\u001b[0;32m     38\u001b[0m             \u001b[0mepochs\u001b[0m\u001b[1;33m=\u001b[0m\u001b[0mepochs\u001b[0m\u001b[1;33m,\u001b[0m\u001b[1;33m\u001b[0m\u001b[1;33m\u001b[0m\u001b[0m\n\u001b[1;32m---> 39\u001b[1;33m             validation_data=([te_pairs[:, 0], te_pairs[:, 1]], te_y))\n\u001b[0m\u001b[0;32m     40\u001b[0m   \u001b[0mmodel\u001b[0m\u001b[1;33m.\u001b[0m\u001b[0msave\u001b[0m\u001b[1;33m(\u001b[0m\u001b[0mstr\u001b[0m\u001b[1;33m(\u001b[0m\u001b[0mc1\u001b[0m\u001b[1;33m)\u001b[0m\u001b[1;33m+\u001b[0m\u001b[1;34m'_'\u001b[0m\u001b[1;33m+\u001b[0m \u001b[0mstr\u001b[0m\u001b[1;33m(\u001b[0m\u001b[0mc2\u001b[0m\u001b[1;33m)\u001b[0m\u001b[1;33m+\u001b[0m\u001b[1;34m'.h5'\u001b[0m\u001b[1;33m)\u001b[0m\u001b[1;33m\u001b[0m\u001b[1;33m\u001b[0m\u001b[0m\n\u001b[0;32m     41\u001b[0m \u001b[1;33m\u001b[0m\u001b[0m\n",
      "\u001b[1;32m~\\Anaconda3\\envs\\tf-2\\lib\\site-packages\\keras\\engine\\training.py\u001b[0m in \u001b[0;36mfit\u001b[1;34m(self, x, y, batch_size, epochs, verbose, callbacks, validation_split, validation_data, shuffle, class_weight, sample_weight, initial_epoch, steps_per_epoch, validation_steps, validation_freq, max_queue_size, workers, use_multiprocessing, **kwargs)\u001b[0m\n\u001b[0;32m   1237\u001b[0m                                         \u001b[0msteps_per_epoch\u001b[0m\u001b[1;33m=\u001b[0m\u001b[0msteps_per_epoch\u001b[0m\u001b[1;33m,\u001b[0m\u001b[1;33m\u001b[0m\u001b[1;33m\u001b[0m\u001b[0m\n\u001b[0;32m   1238\u001b[0m                                         \u001b[0mvalidation_steps\u001b[0m\u001b[1;33m=\u001b[0m\u001b[0mvalidation_steps\u001b[0m\u001b[1;33m,\u001b[0m\u001b[1;33m\u001b[0m\u001b[1;33m\u001b[0m\u001b[0m\n\u001b[1;32m-> 1239\u001b[1;33m                                         validation_freq=validation_freq)\n\u001b[0m\u001b[0;32m   1240\u001b[0m \u001b[1;33m\u001b[0m\u001b[0m\n\u001b[0;32m   1241\u001b[0m     def evaluate(self,\n",
      "\u001b[1;32m~\\Anaconda3\\envs\\tf-2\\lib\\site-packages\\keras\\engine\\training_arrays.py\u001b[0m in \u001b[0;36mfit_loop\u001b[1;34m(model, fit_function, fit_inputs, out_labels, batch_size, epochs, verbose, callbacks, val_function, val_inputs, shuffle, initial_epoch, steps_per_epoch, validation_steps, validation_freq)\u001b[0m\n\u001b[0;32m    208\u001b[0m                                          \u001b[0mbatch_size\u001b[0m\u001b[1;33m=\u001b[0m\u001b[0mbatch_size\u001b[0m\u001b[1;33m,\u001b[0m\u001b[1;33m\u001b[0m\u001b[1;33m\u001b[0m\u001b[0m\n\u001b[0;32m    209\u001b[0m                                          \u001b[0mcallbacks\u001b[0m\u001b[1;33m=\u001b[0m\u001b[0mcallbacks\u001b[0m\u001b[1;33m,\u001b[0m\u001b[1;33m\u001b[0m\u001b[1;33m\u001b[0m\u001b[0m\n\u001b[1;32m--> 210\u001b[1;33m                                          verbose=0)\n\u001b[0m\u001b[0;32m    211\u001b[0m                     \u001b[0mval_outs\u001b[0m \u001b[1;33m=\u001b[0m \u001b[0mto_list\u001b[0m\u001b[1;33m(\u001b[0m\u001b[0mval_outs\u001b[0m\u001b[1;33m)\u001b[0m\u001b[1;33m\u001b[0m\u001b[1;33m\u001b[0m\u001b[0m\n\u001b[0;32m    212\u001b[0m                     \u001b[1;31m# Same labels assumed.\u001b[0m\u001b[1;33m\u001b[0m\u001b[1;33m\u001b[0m\u001b[1;33m\u001b[0m\u001b[0m\n",
      "\u001b[1;32m~\\Anaconda3\\envs\\tf-2\\lib\\site-packages\\keras\\engine\\training_arrays.py\u001b[0m in \u001b[0;36mtest_loop\u001b[1;34m(model, f, ins, batch_size, verbose, steps, callbacks)\u001b[0m\n\u001b[0;32m    447\u001b[0m             \u001b[0mbatch_logs\u001b[0m \u001b[1;33m=\u001b[0m \u001b[1;33m{\u001b[0m\u001b[1;34m'batch'\u001b[0m\u001b[1;33m:\u001b[0m \u001b[0mbatch_index\u001b[0m\u001b[1;33m,\u001b[0m \u001b[1;34m'size'\u001b[0m\u001b[1;33m:\u001b[0m \u001b[0mlen\u001b[0m\u001b[1;33m(\u001b[0m\u001b[0mbatch_ids\u001b[0m\u001b[1;33m)\u001b[0m\u001b[1;33m}\u001b[0m\u001b[1;33m\u001b[0m\u001b[1;33m\u001b[0m\u001b[0m\n\u001b[0;32m    448\u001b[0m             \u001b[0mcallbacks\u001b[0m\u001b[1;33m.\u001b[0m\u001b[0m_call_batch_hook\u001b[0m\u001b[1;33m(\u001b[0m\u001b[1;34m'test'\u001b[0m\u001b[1;33m,\u001b[0m \u001b[1;34m'begin'\u001b[0m\u001b[1;33m,\u001b[0m \u001b[0mbatch_index\u001b[0m\u001b[1;33m,\u001b[0m \u001b[0mbatch_logs\u001b[0m\u001b[1;33m)\u001b[0m\u001b[1;33m\u001b[0m\u001b[1;33m\u001b[0m\u001b[0m\n\u001b[1;32m--> 449\u001b[1;33m             \u001b[0mbatch_outs\u001b[0m \u001b[1;33m=\u001b[0m \u001b[0mf\u001b[0m\u001b[1;33m(\u001b[0m\u001b[0mins_batch\u001b[0m\u001b[1;33m)\u001b[0m\u001b[1;33m\u001b[0m\u001b[1;33m\u001b[0m\u001b[0m\n\u001b[0m\u001b[0;32m    450\u001b[0m             \u001b[1;32mif\u001b[0m \u001b[0misinstance\u001b[0m\u001b[1;33m(\u001b[0m\u001b[0mbatch_outs\u001b[0m\u001b[1;33m,\u001b[0m \u001b[0mlist\u001b[0m\u001b[1;33m)\u001b[0m\u001b[1;33m:\u001b[0m\u001b[1;33m\u001b[0m\u001b[1;33m\u001b[0m\u001b[0m\n\u001b[0;32m    451\u001b[0m                 \u001b[1;32mif\u001b[0m \u001b[0mbatch_index\u001b[0m \u001b[1;33m==\u001b[0m \u001b[1;36m0\u001b[0m\u001b[1;33m:\u001b[0m\u001b[1;33m\u001b[0m\u001b[1;33m\u001b[0m\u001b[0m\n",
      "\u001b[1;32m~\\Anaconda3\\envs\\tf-2\\lib\\site-packages\\tensorflow_core\\python\\keras\\backend.py\u001b[0m in \u001b[0;36m__call__\u001b[1;34m(self, inputs)\u001b[0m\n\u001b[0;32m   3738\u001b[0m         \u001b[0mvalue\u001b[0m \u001b[1;33m=\u001b[0m \u001b[0mmath_ops\u001b[0m\u001b[1;33m.\u001b[0m\u001b[0mcast\u001b[0m\u001b[1;33m(\u001b[0m\u001b[0mvalue\u001b[0m\u001b[1;33m,\u001b[0m \u001b[0mtensor\u001b[0m\u001b[1;33m.\u001b[0m\u001b[0mdtype\u001b[0m\u001b[1;33m)\u001b[0m\u001b[1;33m\u001b[0m\u001b[1;33m\u001b[0m\u001b[0m\n\u001b[0;32m   3739\u001b[0m       \u001b[0mconverted_inputs\u001b[0m\u001b[1;33m.\u001b[0m\u001b[0mappend\u001b[0m\u001b[1;33m(\u001b[0m\u001b[0mvalue\u001b[0m\u001b[1;33m)\u001b[0m\u001b[1;33m\u001b[0m\u001b[1;33m\u001b[0m\u001b[0m\n\u001b[1;32m-> 3740\u001b[1;33m     \u001b[0moutputs\u001b[0m \u001b[1;33m=\u001b[0m \u001b[0mself\u001b[0m\u001b[1;33m.\u001b[0m\u001b[0m_graph_fn\u001b[0m\u001b[1;33m(\u001b[0m\u001b[1;33m*\u001b[0m\u001b[0mconverted_inputs\u001b[0m\u001b[1;33m)\u001b[0m\u001b[1;33m\u001b[0m\u001b[1;33m\u001b[0m\u001b[0m\n\u001b[0m\u001b[0;32m   3741\u001b[0m \u001b[1;33m\u001b[0m\u001b[0m\n\u001b[0;32m   3742\u001b[0m     \u001b[1;31m# EagerTensor.numpy() will often make a copy to ensure memory safety.\u001b[0m\u001b[1;33m\u001b[0m\u001b[1;33m\u001b[0m\u001b[1;33m\u001b[0m\u001b[0m\n",
      "\u001b[1;32m~\\Anaconda3\\envs\\tf-2\\lib\\site-packages\\tensorflow_core\\python\\eager\\function.py\u001b[0m in \u001b[0;36m__call__\u001b[1;34m(self, *args, **kwargs)\u001b[0m\n\u001b[0;32m   1079\u001b[0m       \u001b[0mTypeError\u001b[0m\u001b[1;33m:\u001b[0m \u001b[0mFor\u001b[0m \u001b[0minvalid\u001b[0m \u001b[0mpositional\u001b[0m\u001b[1;33m/\u001b[0m\u001b[0mkeyword\u001b[0m \u001b[0margument\u001b[0m \u001b[0mcombinations\u001b[0m\u001b[1;33m.\u001b[0m\u001b[1;33m\u001b[0m\u001b[1;33m\u001b[0m\u001b[0m\n\u001b[0;32m   1080\u001b[0m     \"\"\"\n\u001b[1;32m-> 1081\u001b[1;33m     \u001b[1;32mreturn\u001b[0m \u001b[0mself\u001b[0m\u001b[1;33m.\u001b[0m\u001b[0m_call_impl\u001b[0m\u001b[1;33m(\u001b[0m\u001b[0margs\u001b[0m\u001b[1;33m,\u001b[0m \u001b[0mkwargs\u001b[0m\u001b[1;33m)\u001b[0m\u001b[1;33m\u001b[0m\u001b[1;33m\u001b[0m\u001b[0m\n\u001b[0m\u001b[0;32m   1082\u001b[0m \u001b[1;33m\u001b[0m\u001b[0m\n\u001b[0;32m   1083\u001b[0m   \u001b[1;32mdef\u001b[0m \u001b[0m_call_impl\u001b[0m\u001b[1;33m(\u001b[0m\u001b[0mself\u001b[0m\u001b[1;33m,\u001b[0m \u001b[0margs\u001b[0m\u001b[1;33m,\u001b[0m \u001b[0mkwargs\u001b[0m\u001b[1;33m,\u001b[0m \u001b[0mcancellation_manager\u001b[0m\u001b[1;33m=\u001b[0m\u001b[1;32mNone\u001b[0m\u001b[1;33m)\u001b[0m\u001b[1;33m:\u001b[0m\u001b[1;33m\u001b[0m\u001b[1;33m\u001b[0m\u001b[0m\n",
      "\u001b[1;32m~\\Anaconda3\\envs\\tf-2\\lib\\site-packages\\tensorflow_core\\python\\eager\\function.py\u001b[0m in \u001b[0;36m_call_impl\u001b[1;34m(self, args, kwargs, cancellation_manager)\u001b[0m\n\u001b[0;32m   1119\u001b[0m       raise TypeError(\"Keyword arguments {} unknown. Expected {}.\".format(\n\u001b[0;32m   1120\u001b[0m           list(kwargs.keys()), list(self._arg_keywords)))\n\u001b[1;32m-> 1121\u001b[1;33m     \u001b[1;32mreturn\u001b[0m \u001b[0mself\u001b[0m\u001b[1;33m.\u001b[0m\u001b[0m_call_flat\u001b[0m\u001b[1;33m(\u001b[0m\u001b[0margs\u001b[0m\u001b[1;33m,\u001b[0m \u001b[0mself\u001b[0m\u001b[1;33m.\u001b[0m\u001b[0mcaptured_inputs\u001b[0m\u001b[1;33m,\u001b[0m \u001b[0mcancellation_manager\u001b[0m\u001b[1;33m)\u001b[0m\u001b[1;33m\u001b[0m\u001b[1;33m\u001b[0m\u001b[0m\n\u001b[0m\u001b[0;32m   1122\u001b[0m \u001b[1;33m\u001b[0m\u001b[0m\n\u001b[0;32m   1123\u001b[0m   \u001b[1;32mdef\u001b[0m \u001b[0m_filtered_call\u001b[0m\u001b[1;33m(\u001b[0m\u001b[0mself\u001b[0m\u001b[1;33m,\u001b[0m \u001b[0margs\u001b[0m\u001b[1;33m,\u001b[0m \u001b[0mkwargs\u001b[0m\u001b[1;33m)\u001b[0m\u001b[1;33m:\u001b[0m\u001b[1;33m\u001b[0m\u001b[1;33m\u001b[0m\u001b[0m\n",
      "\u001b[1;32m~\\Anaconda3\\envs\\tf-2\\lib\\site-packages\\tensorflow_core\\python\\eager\\function.py\u001b[0m in \u001b[0;36m_call_flat\u001b[1;34m(self, args, captured_inputs, cancellation_manager)\u001b[0m\n\u001b[0;32m   1222\u001b[0m     \u001b[1;32mif\u001b[0m \u001b[0mexecuting_eagerly\u001b[0m\u001b[1;33m:\u001b[0m\u001b[1;33m\u001b[0m\u001b[1;33m\u001b[0m\u001b[0m\n\u001b[0;32m   1223\u001b[0m       flat_outputs = forward_function.call(\n\u001b[1;32m-> 1224\u001b[1;33m           ctx, args, cancellation_manager=cancellation_manager)\n\u001b[0m\u001b[0;32m   1225\u001b[0m     \u001b[1;32melse\u001b[0m\u001b[1;33m:\u001b[0m\u001b[1;33m\u001b[0m\u001b[1;33m\u001b[0m\u001b[0m\n\u001b[0;32m   1226\u001b[0m       \u001b[0mgradient_name\u001b[0m \u001b[1;33m=\u001b[0m \u001b[0mself\u001b[0m\u001b[1;33m.\u001b[0m\u001b[0m_delayed_rewrite_functions\u001b[0m\u001b[1;33m.\u001b[0m\u001b[0mregister\u001b[0m\u001b[1;33m(\u001b[0m\u001b[1;33m)\u001b[0m\u001b[1;33m\u001b[0m\u001b[1;33m\u001b[0m\u001b[0m\n",
      "\u001b[1;32m~\\Anaconda3\\envs\\tf-2\\lib\\site-packages\\tensorflow_core\\python\\eager\\function.py\u001b[0m in \u001b[0;36mcall\u001b[1;34m(self, ctx, args, cancellation_manager)\u001b[0m\n\u001b[0;32m    509\u001b[0m               \u001b[0minputs\u001b[0m\u001b[1;33m=\u001b[0m\u001b[0margs\u001b[0m\u001b[1;33m,\u001b[0m\u001b[1;33m\u001b[0m\u001b[1;33m\u001b[0m\u001b[0m\n\u001b[0;32m    510\u001b[0m               \u001b[0mattrs\u001b[0m\u001b[1;33m=\u001b[0m\u001b[1;33m(\u001b[0m\u001b[1;34m\"executor_type\"\u001b[0m\u001b[1;33m,\u001b[0m \u001b[0mexecutor_type\u001b[0m\u001b[1;33m,\u001b[0m \u001b[1;34m\"config_proto\"\u001b[0m\u001b[1;33m,\u001b[0m \u001b[0mconfig\u001b[0m\u001b[1;33m)\u001b[0m\u001b[1;33m,\u001b[0m\u001b[1;33m\u001b[0m\u001b[1;33m\u001b[0m\u001b[0m\n\u001b[1;32m--> 511\u001b[1;33m               ctx=ctx)\n\u001b[0m\u001b[0;32m    512\u001b[0m         \u001b[1;32melse\u001b[0m\u001b[1;33m:\u001b[0m\u001b[1;33m\u001b[0m\u001b[1;33m\u001b[0m\u001b[0m\n\u001b[0;32m    513\u001b[0m           outputs = execute.execute_with_cancellation(\n",
      "\u001b[1;32m~\\Anaconda3\\envs\\tf-2\\lib\\site-packages\\tensorflow_core\\python\\eager\\execute.py\u001b[0m in \u001b[0;36mquick_execute\u001b[1;34m(op_name, num_outputs, inputs, attrs, ctx, name)\u001b[0m\n\u001b[0;32m     59\u001b[0m     tensors = pywrap_tensorflow.TFE_Py_Execute(ctx._handle, device_name,\n\u001b[0;32m     60\u001b[0m                                                \u001b[0mop_name\u001b[0m\u001b[1;33m,\u001b[0m \u001b[0minputs\u001b[0m\u001b[1;33m,\u001b[0m \u001b[0mattrs\u001b[0m\u001b[1;33m,\u001b[0m\u001b[1;33m\u001b[0m\u001b[1;33m\u001b[0m\u001b[0m\n\u001b[1;32m---> 61\u001b[1;33m                                                num_outputs)\n\u001b[0m\u001b[0;32m     62\u001b[0m   \u001b[1;32mexcept\u001b[0m \u001b[0mcore\u001b[0m\u001b[1;33m.\u001b[0m\u001b[0m_NotOkStatusException\u001b[0m \u001b[1;32mas\u001b[0m \u001b[0me\u001b[0m\u001b[1;33m:\u001b[0m\u001b[1;33m\u001b[0m\u001b[1;33m\u001b[0m\u001b[0m\n\u001b[0;32m     63\u001b[0m     \u001b[1;32mif\u001b[0m \u001b[0mname\u001b[0m \u001b[1;32mis\u001b[0m \u001b[1;32mnot\u001b[0m \u001b[1;32mNone\u001b[0m\u001b[1;33m:\u001b[0m\u001b[1;33m\u001b[0m\u001b[1;33m\u001b[0m\u001b[0m\n",
      "\u001b[1;31mKeyboardInterrupt\u001b[0m: "
     ]
    }
   ],
   "source": [
    "# Creating NxN C2C-SNs for digits 0 to 5\n",
    "c_list = [0,1,2,3,4,5]\n",
    "networkPairs = list(itertools.permutations(c_list,2))\n",
    "simi = [(0,0),(1,1),(2,2), (3,3), (4,4), (5,5)]\n",
    "networkPairs += simi\n",
    "#C2C parameters\n",
    "accuracyList = []\n",
    "for m in range(len(networkPairs)):\n",
    "  c1, c2 = networkPairs[m]\n",
    "  model, te_acc = C2C_SN(c1,c2)\n",
    "  accuracyList.append((c1, c2,te_acc))\n",
    "  del model\n",
    "\n",
    "\n"
   ]
  },
  {
   "cell_type": "code",
   "execution_count": 7,
   "metadata": {
    "colab": {
     "base_uri": "https://localhost:8080/",
     "height": 121
    },
    "colab_type": "code",
    "executionInfo": {
     "elapsed": 109526,
     "status": "ok",
     "timestamp": 1588826022702,
     "user": {
      "displayName": "mahesh latnekar",
      "photoUrl": "https://lh3.googleusercontent.com/a-/AOh14GjvfCneD0bwpNUn49xzefSaQZYPmw5sMq3F6-iQDg=s64",
      "userId": "02378486984262881096"
     },
     "user_tz": 240
    },
    "id": "gf8oBDvRQWMg",
    "outputId": "b9fe2a09-12c9-46b6-dffb-eab41125949c"
   },
   "outputs": [
    {
     "name": "stdout",
     "output_type": "stream",
     "text": [
      "Go to this URL in a browser: https://accounts.google.com/o/oauth2/auth?client_id=947318989803-6bn6qk8qdgf4n4g3pfee6491hc0brc4i.apps.googleusercontent.com&redirect_uri=urn%3aietf%3awg%3aoauth%3a2.0%3aoob&response_type=code&scope=email%20https%3a%2f%2fwww.googleapis.com%2fauth%2fdocs.test%20https%3a%2f%2fwww.googleapis.com%2fauth%2fdrive%20https%3a%2f%2fwww.googleapis.com%2fauth%2fdrive.photos.readonly%20https%3a%2f%2fwww.googleapis.com%2fauth%2fpeopleapi.readonly\n",
      "\n",
      "Enter your authorization code:\n",
      "··········\n",
      "Mounted at /content/gdrive\n"
     ]
    }
   ],
   "source": [
    "#To mount colab on drive if working in Google coalb\n",
    "from google.colab import drive\n",
    "drive.mount('/content/gdrive')"
   ]
  },
  {
   "cell_type": "code",
   "execution_count": 0,
   "metadata": {
    "colab": {},
    "colab_type": "code",
    "id": "ZEqYUQi8ntek"
   },
   "outputs": [],
   "source": [
    "#To save models form colab to drive\n",
    "from pydrive.auth import GoogleAuth\n",
    "from pydrive.drive import GoogleDrive\n",
    "from google.colab import auth\n",
    "from oauth2client.client import GoogleCredentials\n",
    "\n",
    "\n",
    "gauth = GoogleAuth()\n",
    "gauth.credentials = GoogleCredentials.get_application_default()\n",
    "drive = GoogleDrive(gauth)\n",
    "\n",
    "\n",
    "\n",
    "  "
   ]
  },
  {
   "cell_type": "code",
   "execution_count": null,
   "metadata": {
    "colab": {
     "base_uri": "https://localhost:8080/",
     "height": 622
    },
    "colab_type": "code",
    "executionInfo": {
     "elapsed": 38197,
     "status": "ok",
     "timestamp": 1588449774888,
     "user": {
      "displayName": "mahesh latnekar",
      "photoUrl": "https://lh3.googleusercontent.com/a-/AOh14GjvfCneD0bwpNUn49xzefSaQZYPmw5sMq3F6-iQDg=s64",
      "userId": "02378486984262881096"
     },
     "user_tz": 240
    },
    "id": "WQkf9bjcRPSP",
    "outputId": "936faf15-9e70-4b1c-fe34-ec714ed57d73"
   },
   "outputs": [],
   "source": [
    "#saving all models to drive\n",
    "for i in range(len(networkPairs)):\n",
    "  c1, c2 = networkPairs[i]\n",
    "  \n",
    "  model_save_name = str(c1)+'_'+ str(c2)+'.h5'\n",
    "  print('saving model ' +str(c1)+'_'+ str(c2)+ ' to drive')\n",
    "  \n",
    "  model_file = drive.CreateFile({'title' : model_save_name})\n",
    "  model_file.SetContentFile(model_save_name)\n",
    "  model_file.Upload()\n",
    "\n",
    "  # download to google drive\n",
    "  drive.CreateFile({'id': model_file.get('id')})\n",
    "  "
   ]
  },
  {
   "cell_type": "markdown",
   "metadata": {},
   "source": []
  },
  {
   "cell_type": "code",
   "execution_count": 10,
   "metadata": {
    "colab": {},
    "colab_type": "code",
    "id": "yL2uPf2iV7RV"
   },
   "outputs": [],
   "source": [
    "# Create test pairs for outlier detection\n",
    "# for every unseen digit, there are 10 seen anchor images on the right\n",
    "\n",
    "index_left = np.random.randint(0,500,10)\n",
    "index_right = np.random.randint(0,500,500)\n",
    "arr_x_test = np.empty((5000,2,28,28))\n",
    "def createoutpairs(c2, num):\n",
    "  temp_arr1 = x_test[np.where(y_test==c2)][index_left]\n",
    "  temp_arr2 = x_test[np.where(y_test==num)][index_right]\n",
    "  for i in range(500):\n",
    "    arr_x_test[i*10:i*10+10,0] = temp_arr1\n",
    "  for i in range(500):\n",
    "    arr_x_test[i*10:i*10+10,1] = temp_arr2[i]\n",
    "  \n",
    "  return arr_x_test\n",
    "\n",
    "#Taking mean over 10 predictions (due to 10-shot classification during testing)\n",
    "def meanPred(pred):\n",
    "  pred=np.ravel(pred)\n",
    "  arr = []\n",
    "  for i in range(0,500):\n",
    "    arr.append(np.mean(pred[10*i:10*i + 10]))\n",
    "  arr = np.array(arr)\n",
    "  #arr = arr > 0.5\n",
    "  return arr\n",
    "\n"
   ]
  },
  {
   "cell_type": "markdown",
   "metadata": {},
   "source": []
  },
  {
   "cell_type": "code",
   "execution_count": 18,
   "metadata": {
    "colab": {},
    "colab_type": "code",
    "id": "-syJdqHELeHi"
   },
   "outputs": [],
   "source": [
    "#Creating output vectors of length 36(6x6) for 500 example of each unseen class\n",
    "\n",
    "\n",
    "filePath = 'models/'\n",
    "\n",
    "def Outlier_detection(all_outs):\n",
    "  resultPred = np.empty((len(all_outs),36,500)) \n",
    "  k = 0\n",
    "  for c1 in range(6):    \n",
    "    for c2 in range(6):\n",
    "      print(c1, c2)\n",
    "      model = load_model( filePath+str(c1)+'_'+str(c2)+'.h5', \n",
    "              custom_objects={'contrastive_loss':contrastive_loss, 'recall_m': recall_m, \n",
    "                              'precision_m': precision_m, 'f1_m': f1_m, 'accuracy': accuracy})\n",
    "      for m in range(len(all_outs)):\n",
    "        print(all_outs[m])\n",
    "        te_pairs = createoutpairs(c1,all_outs[m])      \n",
    "        y_pred = model.predict([te_pairs[:, 0], te_pairs[:, 1]])    \n",
    "        resultPred[m,k,:] = meanPred(y_pred) \n",
    "      \n",
    "      k+=1  \n",
    "      del model  \n",
    "  return resultPred\n",
    "\n",
    "    "
   ]
  },
  {
   "cell_type": "code",
   "execution_count": null,
   "metadata": {
    "colab": {
     "base_uri": "https://localhost:8080/",
     "height": 1000
    },
    "colab_type": "code",
    "executionInfo": {
     "elapsed": 2995883,
     "status": "ok",
     "timestamp": 1588453079841,
     "user": {
      "displayName": "mahesh latnekar",
      "photoUrl": "https://lh3.googleusercontent.com/a-/AOh14GjvfCneD0bwpNUn49xzefSaQZYPmw5sMq3F6-iQDg=s64",
      "userId": "02378486984262881096"
     },
     "user_tz": 240
    },
    "id": "Cr2GHYaD5Jkd",
    "outputId": "4b5f05fe-aa5f-4847-9070-f1bc80514938"
   },
   "outputs": [],
   "source": [
    "#saving the prediction vectors of all seen classes\n",
    "all_outs = [0,1,2,3,4,5]\n",
    "resultPredseen = Outlier_detection(all_outs)\n",
    "np.save('resultPredseen.npy', resultPredseen)\n",
    "\n",
    "model_save_name = 'resultPredseen.npy'\n",
    "print('saving model resultPredseen.npy to drive')\n",
    "\n",
    "model_file = drive.CreateFile({'title' : model_save_name})\n",
    "model_file.SetContentFile(model_save_name)\n",
    "model_file.Upload()\n",
    "\n",
    "# download to google drive\n",
    "drive.CreateFile({'id': model_file.get('id')})\n"
   ]
  },
  {
   "cell_type": "code",
   "execution_count": null,
   "metadata": {
    "colab": {
     "base_uri": "https://localhost:8080/",
     "height": 1000
    },
    "colab_type": "code",
    "executionInfo": {
     "elapsed": 1585279,
     "status": "ok",
     "timestamp": 1588440636194,
     "user": {
      "displayName": "mahesh latnekar",
      "photoUrl": "https://lh3.googleusercontent.com/a-/AOh14GjvfCneD0bwpNUn49xzefSaQZYPmw5sMq3F6-iQDg=s64",
      "userId": "02378486984262881096"
     },
     "user_tz": 240
    },
    "id": "HdH32gPiTWpB",
    "outputId": "dcb1d14d-77d6-4914-9e9a-bc13b7ee8bd8"
   },
   "outputs": [],
   "source": [
    "#saving the prediction vectors of all unseen classes\n",
    "all_outs = [6,7,8,9]\n",
    "resultPredunseen = Outlier_detection(all_outs)\n",
    "np.save('resultPredunseen.npy', resultPredunseen)\n",
    "\n",
    "model_save_name = 'resultPredunseen.npy'\n",
    "print('saving model resultPredunseen.npy to drive')\n",
    "\n",
    "model_file = drive.CreateFile({'title' : model_save_name})\n",
    "model_file.SetContentFile(model_save_name)\n",
    "model_file.Upload()\n",
    "\n",
    "# download to google drive\n",
    "drive.CreateFile({'id': model_file.get('id')})"
   ]
  },
  {
   "cell_type": "markdown",
   "metadata": {},
   "source": [
    "# No need to run any part of the code above this. The results have been saved as resultPredseen/unseen.npy and and will be loaded"
   ]
  },
  {
   "cell_type": "code",
   "execution_count": 21,
   "metadata": {
    "colab": {},
    "colab_type": "code",
    "id": "0jNKGoJQTtif"
   },
   "outputs": [],
   "source": [
    "#Finding the count of positive activations for each C2C-SN for seen and unseen digits\n",
    "def Counts(resultPred, threshold):\n",
    "  countpred = np.empty((resultPred.shape[0],36))\n",
    "  resultPredbin = (resultPred>threshold)*1\n",
    "  for i in range(resultPred.shape[0]):\n",
    "    countpred[i] = np.sum(resultPredbin[i], axis = 1)\n",
    "  return countpred\n",
    "\n",
    "resultPredseen = np.load('resultPredseen.npy')\n",
    "resultPredunseen = np.load('resultPredunseen.npy')\n",
    "\n",
    "countSeen = Counts(resultPredseen, 0.5)\n",
    "countUnSeen = Counts(resultPredunseen, 0.5)\n",
    "\n",
    "counts = np.concatenate((countSeen, countUnSeen), axis = 0)\n",
    "\n",
    "\n",
    "\n",
    "\n",
    "\n",
    "\n"
   ]
  },
  {
   "cell_type": "code",
   "execution_count": 22,
   "metadata": {
    "colab": {
     "base_uri": "https://localhost:8080/",
     "height": 1000
    },
    "colab_type": "code",
    "executionInfo": {
     "elapsed": 3097,
     "status": "ok",
     "timestamp": 1588444966260,
     "user": {
      "displayName": "mahesh latnekar",
      "photoUrl": "https://lh3.googleusercontent.com/a-/AOh14GjvfCneD0bwpNUn49xzefSaQZYPmw5sMq3F6-iQDg=s64",
      "userId": "02378486984262881096"
     },
     "user_tz": 240
    },
    "id": "m9gSM83ajKh2",
    "outputId": "3b1e1d53-a51a-4656-cc64-46b5e3b2224b"
   },
   "outputs": [
    {
     "data": {
      "image/png": "[encoded data removed]",
      "text/plain": [
       "<Figure size 1080x3960 with 10 Axes>"
      ]
     },
     "metadata": {
      "needs_background": "light"
     },
     "output_type": "display_data"
    },
    {
     "data": {
      "text/plain": [
       "<Figure size 432x288 with 0 Axes>"
      ]
     },
     "metadata": {},
     "output_type": "display_data"
    }
   ],
   "source": [
    "#Plotting bar graphs for all possible compinations of digits and C2C-SNs\n",
    "fig, axs = plt.subplots(10,1, figsize=(15,55))\n",
    "c2c = [str(c1)+'-'+ str(c2) for c1 in range(6) for c2 in range(6)]\n",
    "for i in range(counts.shape[0]):\n",
    "  x = np.arange(36)\n",
    "  axs[i].bar(x,counts[i])\n",
    "  axs[i].set_xticks(x)\n",
    "  axs[i].set_xticklabels(c2c,  minor=False)\n",
    "  axs[i].set_title('Counts of Positive Activations for Digit ' + str(i))\n",
    "  \n",
    "\n",
    "for ax in axs.flat:\n",
    "    ax.set(xlabel='C2C-SN Networks', ylabel='Counts')\n",
    "plt.show()\n",
    "plt.savefig('Counts.png')"
   ]
  },
  {
   "cell_type": "markdown",
   "metadata": {},
   "source": [
    "for each example, we get a vector of length 36.\n",
    "\n",
    "We observe that for seen cases, there are 6 positive activations and at a distance 6 from each other.\n",
    "\n",
    "Any obervation which does not satisfy this criteria will be an outlier"
   ]
  },
  {
   "cell_type": "code",
   "execution_count": 23,
   "metadata": {
    "colab": {},
    "colab_type": "code",
    "id": "84pOMZjn1H82"
   },
   "outputs": [],
   "source": [
    "# We classify an digit vector of length 36 as an outlier if it has more than 6 activations or if its consecutive activations \n",
    "# are not at distance 6 from each other\n",
    "resultPredseen = np.load('resultPredseen.npy')\n",
    "resultPredunseen = np.load('resultPredunseen.npy')\n",
    "\n",
    "\n",
    "def pairwise(iterable):\n",
    "    a, b = tee(iterable)\n",
    "    next(b, None)\n",
    "    return zip(a, b)\n",
    "\n",
    "\n",
    "def outDetectbyVector(resultPred, threshold):\n",
    "  resultPredbin = (resultPred>threshold)*1\n",
    "  outPred = np.empty((resultPred.shape[0],resultPred.shape[2]))\n",
    "  for i in range(resultPred.shape[0]):\n",
    "    for j in range(resultPred.shape[2]):\n",
    "      ind = np.where(resultPredbin[i,:,j] == 1)[0]\n",
    "      if len(ind)==6:\n",
    "        indDiff = [y-x for x,y in pairwise(ind)]\n",
    "        indDiff = np.array(indDiff)\n",
    "        if np.all(indDiff==6):\n",
    "          outPred[i,j]=0\n",
    "        else:\n",
    "          outPred[i,j]=1\n",
    "      else:\n",
    "        outPred[i,j]=1\n",
    "  return outPred\n",
    "\n",
    "outPredseen = outDetectbyVector(resultPredseen, 0.5)\n",
    "outPredunseen = outDetectbyVector(resultPredunseen, 0.5)\n",
    "\n"
   ]
  },
  {
   "cell_type": "code",
   "execution_count": 24,
   "metadata": {
    "colab": {
     "base_uri": "https://localhost:8080/",
     "height": 185
    },
    "colab_type": "code",
    "executionInfo": {
     "elapsed": 1448,
     "status": "ok",
     "timestamp": 1588628484982,
     "user": {
      "displayName": "mahesh latnekar",
      "photoUrl": "https://lh3.googleusercontent.com/a-/AOh14GjvfCneD0bwpNUn49xzefSaQZYPmw5sMq3F6-iQDg=s64",
      "userId": "02378486984262881096"
     },
     "user_tz": 240
    },
    "id": "sl2B7uI0EIo9",
    "outputId": "79a8dcce-8c77-4603-c5fc-e708ccb16ef4"
   },
   "outputs": [
    {
     "name": "stdout",
     "output_type": "stream",
     "text": [
      "[86.0, 94.39999999999999, 63.2, 62.6, 78.0, 69.19999999999999, 96.0, 98.4, 93.4, 68.8]\n"
     ]
    }
   ],
   "source": [
    "#Calculation of outlier detection accuracy for seen and unseen cases\n",
    "def outAccuracy(outPred, seen):\n",
    "  acc = []\n",
    "  if seen:\n",
    "    for i in range(outPred.shape[0]):\n",
    "      acc.append((np.sum(outPred[i]==0)/len(outPred[i]))*100)\n",
    "      \n",
    "  else:\n",
    "    for i in range(outPred.shape[0]):\n",
    "      acc.append((np.sum(outPred[i]==1)/len(outPred[i]))*100)      \n",
    "  return acc\n",
    "acc_seen = outAccuracy(outPredseen,True)\n",
    "acc_unseen = outAccuracy(outPredunseen,False)\n",
    "tot_acc = acc_seen + acc_unseen\n",
    "print(tot_acc)\n",
    "np.save('OutlierAcc', tot_acc)\n",
    "\n",
    "    \n"
   ]
  },
  {
   "cell_type": "code",
   "execution_count": 25,
   "metadata": {
    "colab": {},
    "colab_type": "code",
    "id": "fDS_tvYyZg4H"
   },
   "outputs": [
    {
     "data": {
      "text/plain": [
       "Text(0, 0.5, 'Accuracy')"
      ]
     },
     "execution_count": 25,
     "metadata": {},
     "output_type": "execute_result"
    },
    {
     "data": {
      "image/png": "[encoded data removed]",
      "text/plain": [
       "<Figure size 432x288 with 1 Axes>"
      ]
     },
     "metadata": {
      "needs_background": "light"
     },
     "output_type": "display_data"
    }
   ],
   "source": [
    "plt.bar(np.arange(10),tot_acc )\n",
    "plt.title('Outlier Detection Accuracy for C2C-SN')\n",
    "plt.xticks(np.arange(0,10,1))\n",
    "plt.xlabel('Digit')\n",
    "plt.ylabel('Accuracy')\n"
   ]
  },
  {
   "cell_type": "code",
   "execution_count": 26,
   "metadata": {
    "colab": {
     "base_uri": "https://localhost:8080/",
     "height": 34
    },
    "colab_type": "code",
    "executionInfo": {
     "elapsed": 1194,
     "status": "ok",
     "timestamp": 1588559700715,
     "user": {
      "displayName": "mahesh latnekar",
      "photoUrl": "https://lh3.googleusercontent.com/a-/AOh14GjvfCneD0bwpNUn49xzefSaQZYPmw5sMq3F6-iQDg=s64",
      "userId": "02378486984262881096"
     },
     "user_tz": 240
    },
    "id": "k7Jt-qinRdWN",
    "outputId": "26e3eecd-f9e7-4e02-8dc1-877f067c8693"
   },
   "outputs": [
    {
     "data": {
      "text/plain": [
       "(1783, 36)"
      ]
     },
     "execution_count": 26,
     "metadata": {},
     "output_type": "execute_result"
    }
   ],
   "source": [
    "#preparing data for finding the right number of clusters through elbow method.\n",
    "\n",
    "X = np.concatenate(tuple([resultPredunseen[i] for i in range(resultPredunseen.shape[0])]), axis = 1)\n",
    "\n",
    "outPred = np.concatenate(tuple([outPredunseen[i] for i in range(outPredunseen.shape[0])]))\n",
    "X = X.T\n",
    "X = X[outPred==1]\n",
    "X.shape"
   ]
  },
  {
   "cell_type": "code",
   "execution_count": 27,
   "metadata": {
    "colab": {
     "base_uri": "https://localhost:8080/",
     "height": 295
    },
    "colab_type": "code",
    "executionInfo": {
     "elapsed": 2273,
     "status": "ok",
     "timestamp": 1588559703856,
     "user": {
      "displayName": "mahesh latnekar",
      "photoUrl": "https://lh3.googleusercontent.com/a-/AOh14GjvfCneD0bwpNUn49xzefSaQZYPmw5sMq3F6-iQDg=s64",
      "userId": "02378486984262881096"
     },
     "user_tz": 240
    },
    "id": "eQhxH_TrIAv8",
    "outputId": "b3cf1c92-9d6d-45ab-94c1-26b6168576b1"
   },
   "outputs": [
    {
     "data": {
      "image/png": "[encoded data removed]",
      "text/plain": [
       "<Figure size 432x288 with 1 Axes>"
      ]
     },
     "metadata": {
      "needs_background": "light"
     },
     "output_type": "display_data"
    }
   ],
   "source": [
    "# implementing the elbow method to find the appropriate number of clusters\n",
    "\n",
    "wcss = []\n",
    "for i in range(1, 9):\n",
    "    kmeans = KMeans(n_clusters=i, init='k-means++', max_iter=300, n_init=10, random_state=0)\n",
    "    kmeans.fit(X)\n",
    "    wcss.append(kmeans.inertia_)\n",
    "plt.plot(range(1, 9), wcss)\n",
    "plt.title('Elbow Method')\n",
    "plt.xlabel('Number of clusters')\n",
    "plt.ylabel('WCSS')\n",
    "plt.show()\n"
   ]
  },
  {
   "cell_type": "markdown",
   "metadata": {},
   "source": [
    "So there should be 3 clusters ideally. which means that two of the outliers have similar patterns"
   ]
  },
  {
   "cell_type": "code",
   "execution_count": 28,
   "metadata": {
    "colab": {},
    "colab_type": "code",
    "id": "FnXw5PJjWclg"
   },
   "outputs": [],
   "source": [
    "# Using Kmeans clustering for to create 4 clusters of resultant vectors\n",
    "resultPred =  np.concatenate(tuple([resultPredunseen[i] for i in range(resultPredunseen.shape[0])]), axis = 1)\n",
    "resultPred = resultPred.T\n",
    "kmeans = KMeans(n_clusters=4, init='k-means++', max_iter=300, n_init=10, random_state=0)\n",
    "kmeans.fit(resultPred)\n",
    "Clusters = np.empty((resultPredunseen.shape[0],resultPredunseen.shape[2]))\n",
    "for i in range(resultPredunseen.shape[0]):\n",
    "  Clusters[i] = kmeans.predict(resultPredunseen[i].T)\n"
   ]
  },
  {
   "cell_type": "code",
   "execution_count": 29,
   "metadata": {
    "colab": {
     "base_uri": "https://localhost:8080/",
     "height": 84
    },
    "colab_type": "code",
    "executionInfo": {
     "elapsed": 1079,
     "status": "ok",
     "timestamp": 1588617088644,
     "user": {
      "displayName": "mahesh latnekar",
      "photoUrl": "https://lh3.googleusercontent.com/a-/AOh14GjvfCneD0bwpNUn49xzefSaQZYPmw5sMq3F6-iQDg=s64",
      "userId": "02378486984262881096"
     },
     "user_tz": 240
    },
    "id": "LMIkrSrShlBs",
    "outputId": "1803eb3b-0a4f-4f50-a716-5f964c61b94a"
   },
   "outputs": [
    {
     "name": "stdout",
     "output_type": "stream",
     "text": [
      "Cluster mode of the digit 6 is cluster 3 with count 260\n",
      "Cluster mode of the digit 7 is cluster 2 with count 231\n",
      "Cluster mode of the digit 8 is cluster 4 with count 227\n",
      "Cluster mode of the digit 9 is cluster 3 with count 448\n"
     ]
    }
   ],
   "source": [
    "#Calculating the mode of the cluster\n",
    "from scipy import stats\n",
    "unseenDigits = [6,7,8,9]\n",
    "for i in range(Clusters.shape[0]):\n",
    "    temp = stats.mode(Clusters[i])\n",
    "    print('Cluster mode of the digit '+ str(unseenDigits[i])+ ' is cluster '+ str(int(temp[0][0])+1)+ ' with count ' + str(temp[1][0]))\n"
   ]
  },
  {
   "cell_type": "code",
   "execution_count": 30,
   "metadata": {
    "colab": {
     "base_uri": "https://localhost:8080/",
     "height": 84
    },
    "colab_type": "code",
    "executionInfo": {
     "elapsed": 2173,
     "status": "ok",
     "timestamp": 1588617090313,
     "user": {
      "displayName": "mahesh latnekar",
      "photoUrl": "https://lh3.googleusercontent.com/a-/AOh14GjvfCneD0bwpNUn49xzefSaQZYPmw5sMq3F6-iQDg=s64",
      "userId": "02378486984262881096"
     },
     "user_tz": 240
    },
    "id": "lAhqHt_U9Pat",
    "outputId": "c48aa1e0-029d-440a-9227-18ae18c39e46"
   },
   "outputs": [
    {
     "name": "stdout",
     "output_type": "stream",
     "text": [
      "The counts of 6, 7, 8, 9 in Cluster 1 are 235, 2, 260, 3 respectively\n",
      "The counts of 6, 7, 8, 9 in Cluster 2 are 33, 231, 117, 119 respectively\n",
      "The counts of 6, 7, 8, 9 in Cluster 3 are 131, 103, 39, 227 respectively\n",
      "The counts of 6, 7, 8, 9 in Cluster 4 are 17, 1, 448, 34 respectively\n"
     ]
    }
   ],
   "source": [
    "# calculating the mode of the digits\n",
    "for i in range(4):\n",
    "  clusterCount = [0,0,0,0]\n",
    "  for j in range(4):\n",
    "    clusterCount[j]+= np.sum((Clusters[i]==j)*1)\n",
    "  print('The counts of 6, 7, 8, 9 in Cluster ' + str(i+1)+ ' are '+ str(clusterCount[0])+', '+str(clusterCount[1])+', '+str(clusterCount[2])+', '+str(clusterCount[3]) + ' respectively' )"
   ]
  },
  {
   "cell_type": "markdown",
   "metadata": {},
   "source": [
    "the mode of cluster 1 is the digit 6\n",
    "\n",
    "the mode of cluster 2 is the digit 7\n",
    "\n",
    "the mode of cluster 3 is the digit 9\n",
    "\n",
    "the mode of cluster 4 is the digit 8"
   ]
  },
  {
   "cell_type": "code",
   "execution_count": 32,
   "metadata": {
    "colab": {},
    "colab_type": "code",
    "id": "3mmaujJ82YVK"
   },
   "outputs": [],
   "source": [
    "# Clustering by Agglomerative method\n",
    "resultPred =  np.concatenate(tuple([resultPredunseen[i] for i in range(resultPredunseen.shape[0])]), axis = 1)\n",
    "resultPred = resultPred.T\n",
    "Agglo = AgglomerativeClustering(n_clusters=4)\n",
    "Agglo.fit(resultPred)\n",
    "Clusters = np.empty((resultPredunseen.shape[0],resultPredunseen.shape[2]))\n",
    "for i in range(resultPredunseen.shape[0]):\n",
    "  Clusters[i] = kmeans.predict(resultPredunseen[i].T)"
   ]
  },
  {
   "cell_type": "code",
   "execution_count": 33,
   "metadata": {
    "colab": {
     "base_uri": "https://localhost:8080/",
     "height": 84
    },
    "colab_type": "code",
    "executionInfo": {
     "elapsed": 725,
     "status": "ok",
     "timestamp": 1588616198119,
     "user": {
      "displayName": "mahesh latnekar",
      "photoUrl": "https://lh3.googleusercontent.com/a-/AOh14GjvfCneD0bwpNUn49xzefSaQZYPmw5sMq3F6-iQDg=s64",
      "userId": "02378486984262881096"
     },
     "user_tz": 240
    },
    "id": "9To4K8IN2yp-",
    "outputId": "fa6f9cf0-c416-47a6-812e-77ccedee9f63"
   },
   "outputs": [
    {
     "name": "stdout",
     "output_type": "stream",
     "text": [
      "Cluster mode of the digit 6 is cluster 3 with count 260\n",
      "Cluster mode of the digit 7 is cluster 2 with count 231\n",
      "Cluster mode of the digit 8 is cluster 4 with count 227\n",
      "Cluster mode of the digit 9 is cluster 3 with count 448\n"
     ]
    }
   ],
   "source": [
    "#Calculating the mode of the cluster\n",
    "from scipy import stats\n",
    "unseenDigits = [6,7,8,9]\n",
    "for i in range(Clusters.shape[0]):\n",
    "    temp = stats.mode(Clusters[i])\n",
    "    print('Cluster mode of the digit '+ str(unseenDigits[i])+ ' is cluster '+ str(int(temp[0][0])+1)+ ' with count ' + str(temp[1][0]))\n"
   ]
  },
  {
   "cell_type": "code",
   "execution_count": 34,
   "metadata": {
    "colab": {
     "base_uri": "https://localhost:8080/",
     "height": 84
    },
    "colab_type": "code",
    "executionInfo": {
     "elapsed": 1485,
     "status": "ok",
     "timestamp": 1588616870406,
     "user": {
      "displayName": "mahesh latnekar",
      "photoUrl": "https://lh3.googleusercontent.com/a-/AOh14GjvfCneD0bwpNUn49xzefSaQZYPmw5sMq3F6-iQDg=s64",
      "userId": "02378486984262881096"
     },
     "user_tz": 240
    },
    "id": "76VMHfqD6Rrm",
    "outputId": "80bd2b0e-628b-4cfa-866f-a2df513dd565"
   },
   "outputs": [
    {
     "name": "stdout",
     "output_type": "stream",
     "text": [
      "The counts of 6, 7, 8, 9 in Cluster 1 are 235, 2, 260, 3 respectively\n",
      "The counts of 6, 7, 8, 9 in Cluster 2 are 33, 231, 117, 119 respectively\n",
      "The counts of 6, 7, 8, 9 in Cluster 3 are 131, 103, 39, 227 respectively\n",
      "The counts of 6, 7, 8, 9 in Cluster 4 are 17, 1, 448, 34 respectively\n"
     ]
    }
   ],
   "source": [
    "\n",
    "# calculating the mode of the digits\n",
    "for i in range(4):\n",
    "  clusterCount = [0,0,0,0]\n",
    "  for j in range(4):\n",
    "    clusterCount[j]+= np.sum((Clusters[i]==j)*1)\n",
    "  print('The counts of 6, 7, 8, 9 in Cluster ' + str(i+1)+ ' are '+ str(clusterCount[0])+', '+str(clusterCount[1])+', '+str(clusterCount[2])+', '+str(clusterCount[3]) + ' respectively' )\n"
   ]
  },
  {
   "cell_type": "code",
   "execution_count": 35,
   "metadata": {
    "colab": {},
    "colab_type": "code",
    "id": "sr3lOVzNmwng"
   },
   "outputs": [],
   "source": [
    "# Creating a training set for KNN clustering\n",
    "resultPred =  np.concatenate(tuple([resultPredseen[i] for i in range(resultPredseen.shape[0])]), axis = 1)\n",
    "resultPred = resultPred.T\n",
    "y = np.empty((resultPred.shape[0],))\n",
    "for i in range(resultPredseen.shape[0]):\n",
    "  y[i*500:i*500+500] = i+1\n",
    "\n"
   ]
  },
  {
   "cell_type": "code",
   "execution_count": 36,
   "metadata": {
    "colab": {},
    "colab_type": "code",
    "id": "QmLgv-Y1o02b"
   },
   "outputs": [],
   "source": [
    "from sklearn.utils import shuffle\n",
    "resultPred, y = shuffle(resultPred, y, random_state=0)"
   ]
  },
  {
   "cell_type": "code",
   "execution_count": 37,
   "metadata": {
    "colab": {
     "base_uri": "https://localhost:8080/",
     "height": 202
    },
    "colab_type": "code",
    "executionInfo": {
     "elapsed": 7108,
     "status": "ok",
     "timestamp": 1588629205673,
     "user": {
      "displayName": "mahesh latnekar",
      "photoUrl": "https://lh3.googleusercontent.com/a-/AOh14GjvfCneD0bwpNUn49xzefSaQZYPmw5sMq3F6-iQDg=s64",
      "userId": "02378486984262881096"
     },
     "user_tz": 240
    },
    "id": "5Po1Rnsemadf",
    "outputId": "04c5d2c2-47b3-4824-cdb1-e5c31f21e0ff"
   },
   "outputs": [
    {
     "data": {
      "text/plain": [
       "GridSearchCV(cv=5, error_score=nan,\n",
       "             estimator=KNeighborsClassifier(algorithm='auto', leaf_size=30,\n",
       "                                            metric='minkowski',\n",
       "                                            metric_params=None, n_jobs=None,\n",
       "                                            n_neighbors=5, p=2,\n",
       "                                            weights='uniform'),\n",
       "             iid='deprecated', n_jobs=None,\n",
       "             param_grid={'n_neighbors': array([ 1,  2,  3,  4,  5,  6,  7,  8,  9, 10, 11, 12, 13, 14, 15, 16, 17,\n",
       "       18, 19, 20, 21, 22, 23, 24])},\n",
       "             pre_dispatch='2*n_jobs', refit=True, return_train_score=False,\n",
       "             scoring=None, verbose=0)"
      ]
     },
     "execution_count": 37,
     "metadata": {},
     "output_type": "execute_result"
    }
   ],
   "source": [
    "#Using Grid search Cross validation to find the appropriate number of neighbors for KNN classifer\n",
    "from sklearn.model_selection import GridSearchCV\n",
    "from sklearn.neighbors import KNeighborsClassifier\n",
    "knn = KNeighborsClassifier()\n",
    "param_grid = {'n_neighbors': np.arange(1, 25)}\n",
    "knn_gscv = GridSearchCV(knn, param_grid, cv=5)\n",
    "knn_gscv.fit(resultPred, y)"
   ]
  },
  {
   "cell_type": "code",
   "execution_count": 38,
   "metadata": {
    "colab": {
     "base_uri": "https://localhost:8080/",
     "height": 34
    },
    "colab_type": "code",
    "executionInfo": {
     "elapsed": 1109,
     "status": "ok",
     "timestamp": 1588629209436,
     "user": {
      "displayName": "mahesh latnekar",
      "photoUrl": "https://lh3.googleusercontent.com/a-/AOh14GjvfCneD0bwpNUn49xzefSaQZYPmw5sMq3F6-iQDg=s64",
      "userId": "02378486984262881096"
     },
     "user_tz": 240
    },
    "id": "98HP9BaqrHxo",
    "outputId": "2f678b7a-4ecc-4603-d453-eca49eebeda8"
   },
   "outputs": [
    {
     "data": {
      "text/plain": [
       "{'n_neighbors': 1}"
      ]
     },
     "execution_count": 38,
     "metadata": {},
     "output_type": "execute_result"
    }
   ],
   "source": [
    "# The best number of neighbors is 1,  useless absolutely useless\n",
    "knn_gscv.best_params_"
   ]
  },
  {
   "cell_type": "code",
   "execution_count": 39,
   "metadata": {
    "colab": {
     "base_uri": "https://localhost:8080/",
     "height": 67
    },
    "colab_type": "code",
    "executionInfo": {
     "elapsed": 1696,
     "status": "ok",
     "timestamp": 1588631165898,
     "user": {
      "displayName": "mahesh latnekar",
      "photoUrl": "https://lh3.googleusercontent.com/a-/AOh14GjvfCneD0bwpNUn49xzefSaQZYPmw5sMq3F6-iQDg=s64",
      "userId": "02378486984262881096"
     },
     "user_tz": 240
    },
    "id": "_3ed-WwVsBPR",
    "outputId": "a7d668c9-5df5-450f-8062-c55e698a4a9a"
   },
   "outputs": [
    {
     "data": {
      "text/plain": [
       "KNeighborsClassifier(algorithm='auto', leaf_size=30, metric='minkowski',\n",
       "                     metric_params=None, n_jobs=None, n_neighbors=20, p=2,\n",
       "                     weights='uniform')"
      ]
     },
     "execution_count": 39,
     "metadata": {},
     "output_type": "execute_result"
    }
   ],
   "source": [
    "knn = KNeighborsClassifier(n_neighbors = 20)\n",
    "knn.fit(resultPred,y)"
   ]
  },
  {
   "cell_type": "code",
   "execution_count": 40,
   "metadata": {
    "colab": {},
    "colab_type": "code",
    "id": "xa7PjykrsO4L"
   },
   "outputs": [],
   "source": [
    "# predicting the clusters for each unseen class seperately\n",
    "Clusters = np.empty((resultPredunseen.shape[0],resultPredunseen.shape[2]))\n",
    "for i in range(resultPredunseen.shape[0]):\n",
    "  Clusters[i] = knn.predict(resultPredunseen[i].T)"
   ]
  },
  {
   "cell_type": "code",
   "execution_count": 41,
   "metadata": {},
   "outputs": [
    {
     "name": "stdout",
     "output_type": "stream",
     "text": [
      "Cluster mode of the digit 6 is cluster 6 with count 235\n",
      "Cluster mode of the digit 7 is cluster 5 with count 217\n",
      "Cluster mode of the digit 8 is cluster 5 with count 209\n",
      "Cluster mode of the digit 9 is cluster 6 with count 438\n"
     ]
    }
   ],
   "source": [
    "#Calculating the mode of the cluster\n",
    "from scipy import stats\n",
    "unseenDigits = [6,7,8,9]\n",
    "for i in range(Clusters.shape[0]):\n",
    "    temp = stats.mode(Clusters[i])\n",
    "    print('Cluster mode of the digit '+ str(unseenDigits[i])+ ' is cluster '+ str(int(temp[0][0])+1)+ ' with count ' + str(temp[1][0]))\n"
   ]
  },
  {
   "cell_type": "code",
   "execution_count": 42,
   "metadata": {
    "colab": {},
    "colab_type": "code",
    "id": "OQWvA1_ZuQs-"
   },
   "outputs": [],
   "source": [
    "\n",
    "ClustProb = np.empty((resultPredunseen.shape[0],resultPredunseen.shape[2],resultPredseen.shape[0]))\n",
    "for i in range(resultPredunseen.shape[0]):\n",
    "  ClustProb[i] = knn.predict_proba(resultPredunseen[i].T)\n"
   ]
  },
  {
   "cell_type": "code",
   "execution_count": 43,
   "metadata": {
    "colab": {
     "base_uri": "https://localhost:8080/",
     "height": 84
    },
    "colab_type": "code",
    "executionInfo": {
     "elapsed": 923,
     "status": "ok",
     "timestamp": 1588631174887,
     "user": {
      "displayName": "mahesh latnekar",
      "photoUrl": "https://lh3.googleusercontent.com/a-/AOh14GjvfCneD0bwpNUn49xzefSaQZYPmw5sMq3F6-iQDg=s64",
      "userId": "02378486984262881096"
     },
     "user_tz": 240
    },
    "id": "1LkGq-oSvQb0",
    "outputId": "65b6bb22-9b43-40ce-971e-1ec7f511ed49"
   },
   "outputs": [
    {
     "name": "stdout",
     "output_type": "stream",
     "text": [
      "[[15  1  3  0 44 35]\n",
      " [ 4  7 19 43 21  2]\n",
      " [ 3  4 19 41  8 23]\n",
      " [ 1  2  0  5 85  4]]\n"
     ]
    }
   ],
   "source": [
    "meanProb = np.empty((4,6), dtype = 'int8')\n",
    "for i in range(4):\n",
    "  meanProb[i] = np.mean(ClustProb[i], axis = 0)*100\n",
    "print(meanProb)"
   ]
  },
  {
   "cell_type": "code",
   "execution_count": 44,
   "metadata": {},
   "outputs": [
    {
     "data": {
      "image/png": "[encoded data removed]",
      "text/plain": [
       "<Figure size 360x1584 with 4 Axes>"
      ]
     },
     "metadata": {
      "needs_background": "light"
     },
     "output_type": "display_data"
    },
    {
     "data": {
      "text/plain": [
       "<Figure size 432x288 with 0 Axes>"
      ]
     },
     "metadata": {},
     "output_type": "display_data"
    }
   ],
   "source": [
    "#Plotting average similarity\n",
    "fig, axs = plt.subplots(4,1, figsize=(5,22))\n",
    "unseenDigit = [6,7,8,9]\n",
    "\n",
    "for i in range(meanProb.shape[0]):\n",
    "  x = np.arange(6)\n",
    "  axs[i].bar(x,meanProb[i])\n",
    "  axs[i].set_xticks(x)\n",
    "  #axs[i].set_xticklabels(c2c,  minor=False)\n",
    "  axs[i].set_title('Average Similarity of Digit ' + str(unseenDigit[i])+ ' with Seen Digits')\n",
    "\n",
    "for ax in axs.flat:\n",
    "    ax.set(xlabel='Seen Digits', ylabel='% Similarily')\n",
    "plt.show()\n",
    "plt.savefig('Average Similarity.png')"
   ]
  },
  {
   "cell_type": "code",
   "execution_count": null,
   "metadata": {},
   "outputs": [],
   "source": []
  }
 ],
 "metadata": {
  "kernelspec": {
   "display_name": "Python 3",
   "language": "python",
   "name": "python3"
  },
  "language_info": {
   "codemirror_mode": {
    "name": "ipython",
    "version": 3
   },
   "file_extension": ".py",
   "mimetype": "text/x-python",
   "name": "python",
   "nbconvert_exporter": "python",
   "pygments_lexer": "ipython3",
   "version": "3.7.1"
  }
 },
 "nbformat": 4,
 "nbformat_minor": 2
}
