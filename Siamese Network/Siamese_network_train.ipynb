{
 "cells": [
  {
   "cell_type": "code",
   "execution_count": 340,
   "metadata": {},
   "outputs": [],
   "source": [
    "from __future__ import absolute_import\n",
    "from __future__ import print_function\n",
    "import numpy as np\n",
    "from statistics import mean \n",
    "import matplotlib.pyplot as plt\n",
    "import matplotlib\n",
    "import pickle\n",
    "import joblib\n",
    "from IPython.display import display\n",
    "\n",
    "import random\n",
    "from keras.datasets import mnist\n",
    "from keras.models import Model\n",
    "from keras.layers import Input, Flatten, Dense, Dropout, Lambda\n",
    "from keras.optimizers import RMSprop\n",
    "from keras import backend as K\n",
    "\n",
    "from sklearn.cluster import KMeans\n",
    "from scipy import stats\n",
    "from sklearn.utils import shuffle\n"
   ]
  },
  {
   "cell_type": "markdown",
   "metadata": {},
   "source": [
    "# Siamese Network Training"
   ]
  },
  {
   "cell_type": "code",
   "execution_count": 341,
   "metadata": {},
   "outputs": [],
   "source": [
    "num_classes = 6\n",
    "epochs = 20"
   ]
  },
  {
   "cell_type": "code",
   "execution_count": 342,
   "metadata": {},
   "outputs": [],
   "source": [
    "def euclidean_distance(vects):\n",
    "    x, y = vects\n",
    "    sum_square = K.sum(K.square(x - y), axis=1, keepdims=True)\n",
    "    return K.sqrt(K.maximum(sum_square, K.epsilon()))"
   ]
  },
  {
   "cell_type": "code",
   "execution_count": 343,
   "metadata": {},
   "outputs": [],
   "source": [
    "def eucl_dist_output_shape(shapes):\n",
    "    shape1, shape2 = shapes\n",
    "    return (shape1[0], 1)"
   ]
  },
  {
   "cell_type": "code",
   "execution_count": 344,
   "metadata": {},
   "outputs": [],
   "source": [
    "def contrastive_loss(y_true, y_pred):\n",
    "    '''Contrastive loss from Hadsell-et-al.'06\n",
    "    http://yann.lecun.com/exdb/publis/pdf/hadsell-chopra-lecun-06.pdf\n",
    "    '''\n",
    "    margin = 1\n",
    "    square_pred = K.square(y_pred)\n",
    "    margin_square = K.square(K.maximum(margin - y_pred, 0))\n",
    "    return K.mean(y_true * square_pred + (1 - y_true) * margin_square)"
   ]
  },
  {
   "cell_type": "code",
   "execution_count": 345,
   "metadata": {},
   "outputs": [],
   "source": [
    "def create_pairs(x, digit_indices):\n",
    "    '''Positive and negative pair creation.\n",
    "    Alternates between positive and negative pairs.\n",
    "    '''\n",
    "    pairs = []\n",
    "    labels = []\n",
    "    n = min([len(digit_indices[d]) for d in range(num_classes)]) - 1\n",
    "    for d in range(num_classes):\n",
    "        for i in range(n):\n",
    "            z1, z2 = digit_indices[d][i], digit_indices[d][i + 1]\n",
    "            pairs += [[x[z1], x[z2]]]\n",
    "            inc = random.randrange(1, num_classes)\n",
    "            dn = (d + inc) % num_classes\n",
    "            z1, z2 = digit_indices[d][i], digit_indices[dn][i]\n",
    "            pairs += [[x[z1], x[z2]]]\n",
    "            labels += [1, 0]\n",
    "    return np.array(pairs), np.array(labels)"
   ]
  },
  {
   "cell_type": "code",
   "execution_count": 346,
   "metadata": {},
   "outputs": [],
   "source": [
    "\n",
    "def create_test_pairs(num,classes, x, y):\n",
    "    np.random.seed(10)\n",
    "    n = 500\n",
    "    arr_x_test = np.empty((500,60,2,28,28))\n",
    "    arr_y_test = np.empty((500,60,2))\n",
    "    index_left = np.random.randint(0,500,10)\n",
    "    index_right = np.random.randint(0,500,500)\n",
    "    temp_arr1 = x[np.where(y==num)][index_right]\n",
    "    temp_arr2 = y[np.where(y==num)][index_right]    \n",
    "    for i in range(classes):\n",
    "        arr_x_test[:,i*10:i*10+10,0]=x[np.where(y==i)][index_left]\n",
    "        arr_y_test[:,i*10:i*10+10,0] = y[np.where(y==i)][index_left]\n",
    "    for i in range(n):\n",
    "        arr_x_test[i,:,1] = temp_arr1[i]\n",
    "        arr_y_test[i,:,1] = temp_arr2[i]\n",
    "    return arr_x_test, arr_y_test\n"
   ]
  },
  {
   "cell_type": "code",
   "execution_count": 347,
   "metadata": {},
   "outputs": [],
   "source": [
    "def create_base_network(input_shape):\n",
    "    '''Base network to be shared (eq. to feature extraction).\n",
    "    '''\n",
    "    input = Input(shape=input_shape)\n",
    "    x = Flatten()(input)\n",
    "    x = Dense(128, activation='relu')(x)\n",
    "    x = Dropout(0.1)(x)\n",
    "    x = Dense(128, activation='relu')(x)\n",
    "    x = Dropout(0.1)(x)\n",
    "    x = Dense(128, activation='relu')(x)\n",
    "    return Model(input, x)"
   ]
  },
  {
   "cell_type": "code",
   "execution_count": 348,
   "metadata": {},
   "outputs": [],
   "source": [
    "def compute_accuracy(y_true, y_pred):\n",
    "    '''Compute classification accuracy with a fixed threshold on distances.\n",
    "    '''\n",
    "    pred = y_pred.ravel() < 0.5\n",
    "    return np.mean(pred == y_true)"
   ]
  },
  {
   "cell_type": "code",
   "execution_count": 349,
   "metadata": {},
   "outputs": [],
   "source": [
    "def accuracy(y_true, y_pred):\n",
    "    '''Compute classification accuracy with a fixed threshold on distances.\n",
    "    '''\n",
    "    return K.mean(K.equal(y_true, K.cast(y_pred < 0.5, y_true.dtype)))"
   ]
  },
  {
   "cell_type": "code",
   "execution_count": 350,
   "metadata": {},
   "outputs": [],
   "source": [
    "def create_pred_matrix(classes, pairs, models):\n",
    "    pred_matrix = np.zeros((classes, 500))\n",
    "    for i in range(len(pairs)):\n",
    "        k = 0\n",
    "        for j in range(0,len(pairs[0]),10):\n",
    "            pred_array = models.predict([pairs[i,j:j+10,0], pairs[i,j:j+10,1]])\n",
    "            pred_avg = np.mean(pred_array)\n",
    "            pred_matrix[k,i] = pred_avg\n",
    "            k += 1\n",
    "    return pred_matrix"
   ]
  },
  {
   "cell_type": "code",
   "execution_count": 351,
   "metadata": {},
   "outputs": [],
   "source": [
    "# the data, split between train and test sets\n",
    "(x_train, y_train), (x_test, y_test) = mnist.load_data()\n",
    "x_train = x_train.astype('float32')\n",
    "x_test = x_test.astype('float32')\n",
    "x_train /= 255\n",
    "x_test /= 255\n",
    "input_shape = x_train.shape[1:]"
   ]
  },
  {
   "cell_type": "code",
   "execution_count": 352,
   "metadata": {},
   "outputs": [],
   "source": [
    "# create training positive and negative pairs\n",
    "digit_indices = [np.where(y_train == i)[0] for i in range(num_classes)]\n",
    "tr_pairs, tr_y = create_pairs(x_train, digit_indices)"
   ]
  },
  {
   "cell_type": "code",
   "execution_count": 353,
   "metadata": {},
   "outputs": [],
   "source": [
    "# network definition\n",
    "base_network = create_base_network(input_shape)\n",
    "\n",
    "input_a = Input(shape=input_shape)\n",
    "input_b = Input(shape=input_shape)"
   ]
  },
  {
   "cell_type": "code",
   "execution_count": 354,
   "metadata": {},
   "outputs": [],
   "source": [
    "processed_a = base_network(input_a)\n",
    "processed_b = base_network(input_b)\n",
    "\n",
    "distance = Lambda(euclidean_distance,\n",
    "                  output_shape=eucl_dist_output_shape)([processed_a, processed_b])\n",
    "\n",
    "model = Model([input_a, input_b], distance)"
   ]
  },
  {
   "cell_type": "code",
   "execution_count": 355,
   "metadata": {},
   "outputs": [
    {
     "name": "stdout",
     "output_type": "stream",
     "text": [
      "Epoch 1/20\n",
      "65040/65040 [==============================] - 3s 50us/step - loss: 0.0794 - accuracy: 0.9160\n",
      "Epoch 2/20\n",
      "65040/65040 [==============================] - 3s 46us/step - loss: 0.0223 - accuracy: 0.9795\n",
      "Epoch 3/20\n",
      "65040/65040 [==============================] - 3s 46us/step - loss: 0.0134 - accuracy: 0.9867\n",
      "Epoch 4/20\n",
      "65040/65040 [==============================] - 3s 46us/step - loss: 0.0094 - accuracy: 0.9897\n",
      "Epoch 5/20\n",
      "65040/65040 [==============================] - 3s 47us/step - loss: 0.0072 - accuracy: 0.9924\n",
      "Epoch 6/20\n",
      "65040/65040 [==============================] - 3s 45us/step - loss: 0.0058 - accuracy: 0.9936\n",
      "Epoch 7/20\n",
      "65040/65040 [==============================] - 3s 44us/step - loss: 0.0050 - accuracy: 0.9944\n",
      "Epoch 8/20\n",
      "65040/65040 [==============================] - 3s 44us/step - loss: 0.0041 - accuracy: 0.9953\n",
      "Epoch 9/20\n",
      "65040/65040 [==============================] - 3s 44us/step - loss: 0.0039 - accuracy: 0.9958\n",
      "Epoch 10/20\n",
      "65040/65040 [==============================] - 3s 44us/step - loss: 0.0035 - accuracy: 0.9961\n",
      "Epoch 11/20\n",
      "65040/65040 [==============================] - 3s 44us/step - loss: 0.0033 - accuracy: 0.9961\n",
      "Epoch 12/20\n",
      "65040/65040 [==============================] - 3s 44us/step - loss: 0.0029 - accuracy: 0.9968\n",
      "Epoch 13/20\n",
      "65040/65040 [==============================] - 3s 44us/step - loss: 0.0032 - accuracy: 0.9965\n",
      "Epoch 14/20\n",
      "65040/65040 [==============================] - 3s 44us/step - loss: 0.0027 - accuracy: 0.9969\n",
      "Epoch 15/20\n",
      "65040/65040 [==============================] - 3s 45us/step - loss: 0.0028 - accuracy: 0.9969\n",
      "Epoch 16/20\n",
      "65040/65040 [==============================] - 3s 44us/step - loss: 0.0026 - accuracy: 0.9971\n",
      "Epoch 17/20\n",
      "65040/65040 [==============================] - 3s 44us/step - loss: 0.0025 - accuracy: 0.9970\n",
      "Epoch 18/20\n",
      "65040/65040 [==============================] - 3s 43us/step - loss: 0.0022 - accuracy: 0.9977\n",
      "Epoch 19/20\n",
      "65040/65040 [==============================] - 3s 43us/step - loss: 0.0023 - accuracy: 0.9975\n",
      "Epoch 20/20\n",
      "65040/65040 [==============================] - 3s 44us/step - loss: 0.0023 - accuracy: 0.9974\n"
     ]
    },
    {
     "data": {
      "text/plain": [
       "<keras.callbacks.callbacks.History at 0x1862c8013c8>"
      ]
     },
     "execution_count": 355,
     "metadata": {},
     "output_type": "execute_result"
    }
   ],
   "source": [
    "# train\n",
    "rms = RMSprop()\n",
    "model.compile(loss=contrastive_loss, optimizer=rms, metrics=[accuracy])\n",
    "model.fit([tr_pairs[:, 0], tr_pairs[:, 1]], tr_y,\n",
    "          batch_size=128,\n",
    "          epochs=epochs)"
   ]
  },
  {
   "cell_type": "code",
   "execution_count": 356,
   "metadata": {},
   "outputs": [
    {
     "name": "stdout",
     "output_type": "stream",
     "text": [
      "Model: \"model_20\"\n",
      "__________________________________________________________________________________________________\n",
      "Layer (type)                    Output Shape         Param #     Connected to                     \n",
      "==================================================================================================\n",
      "input_29 (InputLayer)           (None, 28, 28)       0                                            \n",
      "__________________________________________________________________________________________________\n",
      "input_30 (InputLayer)           (None, 28, 28)       0                                            \n",
      "__________________________________________________________________________________________________\n",
      "model_19 (Model)                (None, 128)          133504      input_29[0][0]                   \n",
      "                                                                 input_30[0][0]                   \n",
      "__________________________________________________________________________________________________\n",
      "lambda_10 (Lambda)              (None, 1)            0           model_19[1][0]                   \n",
      "                                                                 model_19[2][0]                   \n",
      "==================================================================================================\n",
      "Total params: 133,504\n",
      "Trainable params: 133,504\n",
      "Non-trainable params: 0\n",
      "__________________________________________________________________________________________________\n"
     ]
    }
   ],
   "source": [
    "model.summary()"
   ]
  },
  {
   "cell_type": "code",
   "execution_count": 357,
   "metadata": {},
   "outputs": [],
   "source": [
    "# save resultant model\n",
    "\n",
    "model.save('model-siamese.h5')"
   ]
  },
  {
   "cell_type": "code",
   "execution_count": 358,
   "metadata": {},
   "outputs": [],
   "source": [
    "# Create resultant matrix (activation value)\n",
    "np.random.seed(100)\n",
    "anomaly_matrix = np.zeros((10,num_classes,500))\n",
    "for i in range(10):\n",
    "    te_pairs, te_y = create_test_pairs(i,num_classes,x_test, y_test)\n",
    "    pred_matrix = create_pred_matrix(num_classes, te_pairs, model)\n",
    "    anomaly_matrix[i,:,:] = pred_matrix\n",
    "    "
   ]
  },
  {
   "cell_type": "code",
   "execution_count": 360,
   "metadata": {},
   "outputs": [],
   "source": [
    "np.save('anomaly_matrix.npy', anomaly_matrix) # save numpy array for zero shot learning"
   ]
  }
 ],
 "metadata": {
  "kernelspec": {
   "display_name": "Python 3",
   "language": "python",
   "name": "python3"
  },
  "language_info": {
   "codemirror_mode": {
    "name": "ipython",
    "version": 3
   },
   "file_extension": ".py",
   "mimetype": "text/x-python",
   "name": "python",
   "nbconvert_exporter": "python",
   "pygments_lexer": "ipython3",
   "version": "3.7.3"
  }
 },
 "nbformat": 4,
 "nbformat_minor": 2
}
